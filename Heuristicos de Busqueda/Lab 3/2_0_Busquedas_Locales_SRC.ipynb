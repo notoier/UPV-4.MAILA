{
 "cells": [
  {
   "cell_type": "markdown",
   "metadata": {},
   "source": [
    "# Búsquedas locales"
   ]
  },
  {
   "cell_type": "markdown",
   "metadata": {},
   "source": [
    "### Implementando el entorno\n",
    "\n",
    "Tómate tu tiempo para refrescar el concepto QAP. ¿Qué significa un problema tipo QAP?\n",
    "Seguramente recordarás de los anteriores laboratorios que en QAP estamos intentando optimizar la asignación de instancias a ciertas localizaciones, de tal manera que optimizamos el flujo entre las instancias.\n",
    "En nuestro caso nos imaginábamos que las instancias son fábricas que producen algún producto o proceso que tiene dependencias con los productos o procesos de otras fábricas.\n",
    "De esta manera todo el problema esta interconectado, y nuestra tarea radica en encontrar la mejor configuración para estas fábricas.\n",
    "\n",
    "¿ Cuál sería por tanto una codificación adecuada para un posible candidato ? Si mantenemos nuestra decisión de diseño del anterior laboratorio,\n",
    "la mejor codificación sería utilizar una lista, en la que cada candidato estaría representado con una permutación\n",
    "$\\sigma=(1,2,3,4,5,\\ldots,20)$.\n",
    "\n",
    "Una vez que hemos definido la codificación de un candidato, el siguiente paso radica en definir una función de localidad.\n",
    "Esta función nos va a permitir transicionar a candidatos cercanos a nuestro candidato actual, y poder continuar la búsqueda.\n",
    "\n",
    "En clase hemos analizado distintas maneras de generar nuevos candidatos, como <i>swap</i> e <i>insert</i>.\n",
    "Elige tu función de localidad favorita e implementala\n"
   ]
  },
  {
   "cell_type": "code",
   "execution_count": 9,
   "metadata": {
    "collapsed": true
   },
   "outputs": [
    {
     "ename": "ValueError",
     "evalue": "shape mismatch: value array of shape (2,) could not be broadcast to indexing result of shape (1,)",
     "output_type": "error",
     "traceback": [
      "\u001b[0;31m---------------------------------------------------------------------------\u001b[0m",
      "\u001b[0;31mValueError\u001b[0m                                Traceback (most recent call last)",
      "\u001b[0;32m/tmp/ipykernel_24175/68710708.py\u001b[0m in \u001b[0;36m<module>\u001b[0;34m\u001b[0m\n\u001b[1;32m     19\u001b[0m \u001b[0;34m\u001b[0m\u001b[0m\n\u001b[1;32m     20\u001b[0m \u001b[0;31m# TODO\u001b[0m\u001b[0;34m\u001b[0m\u001b[0;34m\u001b[0m\u001b[0m\n\u001b[0;32m---> 21\u001b[0;31m \u001b[0mvecinos\u001b[0m \u001b[0;34m=\u001b[0m \u001b[0minsert\u001b[0m\u001b[0;34m(\u001b[0m\u001b[0msolution\u001b[0m\u001b[0;34m)\u001b[0m\u001b[0;34m\u001b[0m\u001b[0;34m\u001b[0m\u001b[0m\n\u001b[0m\u001b[1;32m     22\u001b[0m \u001b[0mprint\u001b[0m\u001b[0;34m(\u001b[0m\u001b[0mvecinos\u001b[0m\u001b[0;34m)\u001b[0m\u001b[0;34m\u001b[0m\u001b[0;34m\u001b[0m\u001b[0m\n\u001b[1;32m     23\u001b[0m \u001b[0mprint\u001b[0m\u001b[0;34m(\u001b[0m\u001b[0;34m\"ID: {} - Candidato: {}\"\u001b[0m\u001b[0;34m.\u001b[0m\u001b[0mformat\u001b[0m\u001b[0;34m(\u001b[0m\u001b[0mid\u001b[0m\u001b[0;34m,\u001b[0m \u001b[0msolution\u001b[0m\u001b[0;34m)\u001b[0m\u001b[0;34m)\u001b[0m\u001b[0;34m\u001b[0m\u001b[0;34m\u001b[0m\u001b[0m\n",
      "\u001b[0;32m/tmp/ipykernel_24175/68710708.py\u001b[0m in \u001b[0;36minsert\u001b[0;34m(candidato)\u001b[0m\n\u001b[1;32m     10\u001b[0m             \u001b[0mvecino\u001b[0m \u001b[0;34m=\u001b[0m \u001b[0mnp\u001b[0m\u001b[0;34m.\u001b[0m\u001b[0mzeros\u001b[0m\u001b[0;34m(\u001b[0m\u001b[0mtamaño\u001b[0m\u001b[0;34m)\u001b[0m\u001b[0;34m\u001b[0m\u001b[0;34m\u001b[0m\u001b[0m\n\u001b[1;32m     11\u001b[0m             \u001b[0mvecino\u001b[0m\u001b[0;34m[\u001b[0m\u001b[0mj\u001b[0m\u001b[0;34m:\u001b[0m\u001b[0;34m]\u001b[0m \u001b[0;34m=\u001b[0m \u001b[0mcandidato\u001b[0m\u001b[0;34m[\u001b[0m\u001b[0mi\u001b[0m\u001b[0;34m:\u001b[0m\u001b[0mtamaño\u001b[0m\u001b[0;34m-\u001b[0m\u001b[0mj\u001b[0m\u001b[0;34m]\u001b[0m\u001b[0;34m\u001b[0m\u001b[0;34m\u001b[0m\u001b[0m\n\u001b[0;32m---> 12\u001b[0;31m             \u001b[0mvecino\u001b[0m\u001b[0;34m[\u001b[0m\u001b[0mrange\u001b[0m\u001b[0;34m(\u001b[0m\u001b[0;36m0\u001b[0m\u001b[0;34m,\u001b[0m \u001b[0mj\u001b[0m\u001b[0;34m-\u001b[0m\u001b[0;36m1\u001b[0m\u001b[0;34m)\u001b[0m\u001b[0;34m]\u001b[0m \u001b[0;34m=\u001b[0m \u001b[0mcandidato\u001b[0m\u001b[0;34m[\u001b[0m\u001b[0mtamaño\u001b[0m\u001b[0;34m-\u001b[0m\u001b[0mj\u001b[0m\u001b[0;34m:\u001b[0m\u001b[0mtamaño\u001b[0m\u001b[0;34m]\u001b[0m\u001b[0;34m\u001b[0m\u001b[0;34m\u001b[0m\u001b[0m\n\u001b[0m\u001b[1;32m     13\u001b[0m             \u001b[0mvecinos\u001b[0m\u001b[0;34m.\u001b[0m\u001b[0mappend\u001b[0m\u001b[0;34m(\u001b[0m\u001b[0mvecino\u001b[0m\u001b[0;34m)\u001b[0m\u001b[0;34m\u001b[0m\u001b[0;34m\u001b[0m\u001b[0m\n\u001b[1;32m     14\u001b[0m    \u001b[0;32mreturn\u001b[0m \u001b[0mvecinos\u001b[0m\u001b[0;34m\u001b[0m\u001b[0;34m\u001b[0m\u001b[0m\n",
      "\u001b[0;31mValueError\u001b[0m: shape mismatch: value array of shape (2,) could not be broadcast to indexing result of shape (1,)"
     ]
    }
   ],
   "source": [
    "# implementa aquí tu función de localidad.\n",
    "# PISTA: necesitarás más de un bucle for y puede que encuentres algo de inspiración en el algoritmo de la burbuja\n",
    "import numpy as np\n",
    "\n",
    "def insert(candidato):\n",
    "   tamaño = len(candidato)\n",
    "   vecinos = []\n",
    "   for i in range(tamaño):\n",
    "      for j in range(tamaño):\n",
    "            vecino = np.zeros(tamaño) \n",
    "            vecino[j:] = candidato[i:tamaño-j]\n",
    "            vecino[range(0, j-1)] = candidato[tamaño-j:tamaño]\n",
    "            vecinos.append(vecino)\n",
    "   return vecinos\n",
    "# crea un candidato y testea u función\n",
    "size = 20\n",
    "solution = list(range(size))\n",
    "id = 0\n",
    "\n",
    "# TODO\n",
    "vecinos = insert(solution)\n",
    "print(vecinos)\n",
    "print(\"ID: {} - Candidato: {}\".format(id, solution))\n"
   ]
  },
  {
   "cell_type": "markdown",
   "metadata": {},
   "source": [
    "### Selección de candidatos en la vecindad\n",
    "\n",
    "<i>Best first</i>, <i>Greedy</i>, <i>Random</i>, algún otro criterio, ...\n",
    " ¿ Cuál puede ser el mejor criterio para guiar nuestra búsqueda ?\n",
    "\n",
    "Cada método tiene sus pros y sus contras y suele ser complicado elegir uno,\n",
    "ya que muchas veces no podemos estimar su comportamiento real de manera certera.\n",
    "\n",
    "Una forma de abordar esta dificultad radica en realizar una pequeña estimación de cómo se comporta cada método.\n",
    "Para ello, implementa una pequeña búsqueda de 1000 iteraciones máximo, con la que podamos empezar a extraer alguna conclusión.\n",
    "Con este primer resultado podremos elegir que método queremos seguir explotando."
   ]
  },
  {
   "cell_type": "code",
   "execution_count": 1,
   "metadata": {
    "collapsed": false
   },
   "outputs": [],
   "source": [
    "# Leemos datos del problema desde fichero\n",
    "\n",
    "import numpy as np\n",
    "\n",
    "def read_instance_QAP(filepath : str) -> list:\n",
    "    lines = open(filepath).readlines()\n",
    "    # Leemos cabecera\n",
    "    n = int(lines[0].strip().split()[0])\n",
    "\n",
    "    # Leemos D_ij\n",
    "    D = [line.split() for line in lines[1:n+1]]\n",
    "    D = np.array(D, dtype=float)\n",
    "\n",
    "    # Leemos H_ij\n",
    "    H = [line.split() for line in lines[n+1:]]\n",
    "    H = np.array(H, dtype=float)\n",
    "\n",
    "    return (n, D, H)\n",
    "\n",
    "# Definimos función objetivo para evaluar candidatos\n",
    "def objective_function_QAP(solution : list, instance : list) -> list:\n",
    "    n, D, H = instance\n",
    "\n",
    "    fitness = 0\n",
    "    for i in range(n):\n",
    "        for j in range(n):\n",
    "            fitness += D[i][j] * H[solution[i]][solution[j]]\n",
    "    return fitness"
   ]
  },
  {
   "cell_type": "code",
   "execution_count": 2,
   "metadata": {
    "collapsed": true
   },
   "outputs": [
    {
     "ename": "SyntaxError",
     "evalue": "incomplete input (253842298.py, line 14)",
     "output_type": "error",
     "traceback": [
      "\u001b[0;36m  File \u001b[0;32m\"/tmp/ipykernel_24175/253842298.py\"\u001b[0;36m, line \u001b[0;32m14\u001b[0m\n\u001b[0;31m    print(\"Best fitness: {} - best candidate: {}\".format(best_fitness, best_solution)\u001b[0m\n\u001b[0m                                                                                     ^\u001b[0m\n\u001b[0;31mSyntaxError\u001b[0m\u001b[0;31m:\u001b[0m incomplete input\n"
     ]
    }
   ],
   "source": [
    "# Cargamos instancia\n",
    "instance = read_instance_QAP(\"tai20a.dat\")\n",
    "size = instance[0]\n",
    "\n",
    "# Generamos un primer candidato naive y calculamos fitness\n",
    "current = list(range(size))\n",
    "fitness = objective_function_QAP(current, instance)\n",
    "print(\"Fitness: {} - Candidate: {}\".format(fitness, current))\n",
    "\n",
    "# Explora la vecindad de nuestro candidato para analizar si podemos mejorar la solución inicial\n",
    "\n",
    "# TODO - Aproximadamente unas 20 líneas de código\n",
    "\n",
    "print(\"Best fitness: {} - best candidate: {}\".format(best_fitness, best_solution)"
   ]
  },
  {
   "cell_type": "markdown",
   "metadata": {},
   "source": [
    "### Algoritmo de búsqueda local\n",
    "\n",
    "¡ Enhorabuena ! Ya hemos implementado el primer pequeño gran paso de nuestro algoritmo.\n",
    "Y es que, iniciado desde una primera solución hemos conseguido generar la vecindad y transicionar a un estado mejor :)\n",
    "Nuestro siguiente paso radica en repetir este proceso muchas veces, de manera que iterativamente mejoraremos nuestra solución.\n",
    "\n",
    "Existen muchas maneras de terminar este proceso, por ejemplo: cuando ninguna solución en la vecindad es mejor que nuestra solución actual,\n",
    "cuando la mejora no es significativa, ... en nuestro caso y para esta ocasión, terminaremos nuestra búsqueda una vez se hayan realizado 1000 evaluaciones de la función objetivo, es decir,\n",
    "nuestro criterio de terminación será un número máximo de iteraciones.\n",
    "\n",
    "Implementa la función <i>local_search</i> con el código implementado anteriormente."
   ]
  },
  {
   "cell_type": "code",
   "execution_count": null,
   "metadata": {
    "collapsed": true
   },
   "outputs": [],
   "source": [
    "def local_search(instance : list, max_evals : int = 1000) -> list:\n",
    "    '''\n",
    "    :param instance: instancia del problema\n",
    "    :param max_evals: numero maximo de iteraciones a realizar\n",
    "    :return: solucion, fitness del candidato y número de evaluaciones\n",
    "    '''\n",
    "\n",
    "    # TODO\n",
    "    size = instance[0]\n",
    "    candidate = list(range(size))\n",
    "    fitness = objective_function_QAP(candidate, instance)\n",
    "\n",
    "    mejora = True\n",
    "    n_evals = 1\n",
    "\n",
    "    ## TODO (APROX 20 LINEAS)\n",
    "\n",
    "       \n",
    "        \n",
    "    return (best_fitness, best_candidate, n_evals)\n",
    "\n",
    "\n",
    "\n",
    "import time as tm\n",
    "\n",
    "# Cargamos instancia\n",
    "instance = read_instance_QAP(\"tai20a.dat\")\n",
    "\n",
    "# Ejecutar algoritmo y medir tiempos\n",
    "start = tm.time()\n",
    "fitness, sol, evals = local_search(instance, 1000)\n",
    "end = tm.time()\n",
    "\n",
    "# Imprimimos valores en pantalla\n",
    "print(\"Best fitness: {} - Best solution: {}\".format(fitness, sol))\n",
    "print(\"Execution time: {}\".format(end-start))\n",
    "print(\"Evaluations consumed: {}\".format(evals))\n"
   ]
  },
  {
   "cell_type": "markdown",
   "metadata": {},
   "source": [
    "### Magnitud de la experimentación\n",
    "\n",
    "¿ Qué pasa si aumentamos el número de iteraciones ?\n",
    "\n",
    "A continuación vamos a realizar un experimento donde aumentaremos el tamaño de iteraciones de manera incremental.\n",
    "Además compararemos los resultados de nuestro nuevo algoritmo de búsqueda local contra <i>random search</i>.\n",
    "\n",
    "¿ puedes anticipar el resultado ?"
   ]
  },
  {
   "cell_type": "code",
   "execution_count": 45,
   "metadata": {
    "collapsed": true
   },
   "outputs": [],
   "source": [
    "import random\n",
    "import more_itertools as mit\n",
    "# Implementa aquí tu código para random search, puedes reutilizar tu entrega del tema 1\n",
    "\n",
    "def random_search(instance : list, num_solutions : int ) -> list:\n",
    "    # TODO\n",
    "    return (fitness, solution)"
   ]
  },
  {
   "cell_type": "code",
   "execution_count": null,
   "metadata": {
    "collapsed": true
   },
   "outputs": [],
   "source": [
    "import matplotlib.pyplot as plt\n",
    "import pandas as pd\n",
    "import numpy as np\n",
    "\n",
    "list_iteraciones = []\n",
    "list_best_ls = []\n",
    "list_best_rs = []\n",
    "repetitions=10\n",
    "\n",
    "# Cargar instancia\n",
    "instance=read_instance_QAP(\"tai20a.dat\")\n",
    "\n",
    "# Realiza la experimentación con número iteraciones igual a 10, 100, 1000, 10000...\n",
    "for exp in range(1,6):\n",
    "    # TODO\n",
    "\n",
    "# Estructura pandas para almacenar datos\n",
    "datos = pd.DataFrame({\"n\" : list_iteraciones,\n",
    "                      \"Local Search\" : list_best_ls,\n",
    "                      \"Random Search\" : list_best_rs})\n",
    "print(datos.head())\n",
    "print(datos.size)\n",
    "print(datos)"
   ]
  },
  {
   "cell_type": "code",
   "execution_count": null,
   "metadata": {
    "collapsed": false
   },
   "outputs": [],
   "source": [
    "datos.set_index('n', inplace = True)\n",
    "datos.head()"
   ]
  },
  {
   "cell_type": "code",
   "execution_count": null,
   "metadata": {
    "collapsed": false
   },
   "outputs": [],
   "source": [
    "%matplotlib inline\n",
    "datos.plot(kind = 'bar', ylim=(720000,900000), use_index = True)"
   ]
  },
  {
   "cell_type": "code",
   "execution_count": null,
   "metadata": {
    "collapsed": false
   },
   "outputs": [],
   "source": [
    "%matplotlib inline\n",
    "datos.plot(kind = 'line', use_index = True)"
   ]
  },
  {
   "cell_type": "markdown",
   "metadata": {},
   "source": [
    "#### ¿ Conclusiones ?"
   ]
  },
  {
   "cell_type": "code",
   "execution_count": null,
   "metadata": {
    "collapsed": true
   },
   "outputs": [],
   "source": [
    "## Responde aquí"
   ]
  },
  {
   "cell_type": "markdown",
   "metadata": {},
   "source": [
    "#### Ejercicio adicional\n",
    "En este ejercicio hemos implementado una función con un criterio específico para guiar nuestra búsqueda.\n",
    "¿ Por qué hemos implementado esta función ?\n",
    "¿ Podríamos mejorar nuestra solución utilizando algún otro criterio de búsqueda ?"
   ]
  },
  {
   "cell_type": "code",
   "execution_count": null,
   "metadata": {},
   "outputs": [],
   "source": [
    "## Responde aquí"
   ]
  }
 ],
 "metadata": {
  "kernelspec": {
   "display_name": "Python 3",
   "language": "python",
   "name": "python3"
  },
  "language_info": {
   "codemirror_mode": {
    "name": "ipython",
    "version": 3
   },
   "file_extension": ".py",
   "mimetype": "text/x-python",
   "name": "python",
   "nbconvert_exporter": "python",
   "pygments_lexer": "ipython3",
   "version": "3.10.6"
  }
 },
 "nbformat": 4,
 "nbformat_minor": 2
}
