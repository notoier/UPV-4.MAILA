{
 "cells": [
  {
   "cell_type": "markdown",
   "metadata": {},
   "source": [
    "# QAP - Brute Force vs. Random Search"
   ]
  },
  {
   "cell_type": "markdown",
   "metadata": {},
   "source": [
    "Vamos a iniciar el experimento cargando algunos datos, en nuestro caso cargaremos la instancia <i>tai5a.dat</i>, que contiene los datos de una instancia de un QAP.\n",
    "\n",
    "Explora el fichero antes de empezar a programar. ¿ Qué contenido contiene ?"
   ]
  },
  {
   "cell_type": "code",
   "execution_count": 1,
   "metadata": {
    "collapsed": true
   },
   "outputs": [],
   "source": [
    "import numpy as np\n",
    "\n",
    "# Leemos datos del problema desde fichero\n",
    "\n",
    "def read_instance_QAP(filepath : str) -> list:\n",
    "    lines = open(filepath).readlines()\n",
    "    \n",
    "    # Leemos cabecera\n",
    "    n = int(lines[0].strip().split()[0]) #Numero de lineas para definir las dos restricciones del problema: distancias y flujo de trabajo\n",
    "    \n",
    "    # Leemos D_ij\n",
    "    D = [line.split() for line in lines[1:n+1]] #Distancias entre las fabricas\n",
    "    D = np.array(D, dtype=float)\n",
    "\n",
    "    # Leemos H_ij\n",
    "    H = [line.split() for line in lines[n+1:]] #Flujo de trabajo entre fabricas\n",
    "    H = np.array(H, dtype=float)\n",
    "    \n",
    "    return (n, D, H)\n",
    "\n",
    "# Definimos función objetivo para evaluar candidatos\n",
    "def objective_function_QAP(solution : list, instance : list) -> list:\n",
    "    n, D, H = instance\n",
    "\n",
    "    fitness = 0\n",
    "    \n",
    "    for i in range(len(solution)):\n",
    "        for j in range(len(solution)):\n",
    "            fitness += D[i][j] * H[solution[i]][solution[j]]\n",
    "            \n",
    "    return fitness\n"
   ]
  },
  {
   "cell_type": "markdown",
   "metadata": {},
   "source": [
    "Analiza el código, intenta averiguar que cálculo computa.\n",
    "Todavía nos falta algo, y es que...\n",
    "¿ Cómo vamos a codificar una solución ?\n",
    "¿ Cuál es el espacio de búsqueda ?\n",
    "¿ Cuántos candidatos existen ?\n",
    "\n",
    " Diseña una codificación para el problema planteado y testealo con algunos ejemplos calculando su fitness.\n"
   ]
  },
  {
   "cell_type": "code",
   "execution_count": 2,
   "metadata": {
    "collapsed": true
   },
   "outputs": [
    {
     "name": "stdout",
     "output_type": "stream",
     "text": [
      "Objective value of the solution is 29432.0\n"
     ]
    }
   ],
   "source": [
    "solution = [0,2,3,4,1]\n",
    "\n",
    "# Leemos instancia\n",
    "instance = read_instance_QAP(\"tai5a.dat\")\n",
    "\n",
    "# Evaluación fitness\n",
    "result = objective_function_QAP(solution, instance)\n",
    "\n",
    "print(\"Objective value of the solution is {}\".format(result))"
   ]
  },
  {
   "cell_type": "markdown",
   "metadata": {},
   "source": [
    "Ahora implementaremos una función para realizar una búsqueda exhaustiva mediante brute force.\n",
    "Utiliza la instancia tai5a.dat y tai10a.dat.\n",
    "¿ Cuál es la mejor solución y el fitness asociado ?\n",
    "¿ Cuál es el tiempo de ejecución del algoritmo ?"
   ]
  },
  {
   "cell_type": "code",
   "execution_count": 4,
   "metadata": {
    "collapsed": true
   },
   "outputs": [],
   "source": [
    "import itertools as it\n",
    "import math\n",
    "import sys\n",
    "\n",
    "# Brute force algorithm\n",
    "def Brute_Force(instance : list) -> list:\n",
    "    n, D, H = instance\n",
    "    solutions = list(it.permutations(range(1,n)))     #Permutacion de todas las soluciones posibles\n",
    "    min_fitness = np.inf\n",
    "    \n",
    "    for solution in solutions:\n",
    "        fitness = objective_function_QAP(solution, instance)\n",
    "        if (min_fitness > fitness):\n",
    "            min_fitness = fitness\n",
    "            best_solution = solution\n",
    "    return min_fitness, best_solution"
   ]
  },
  {
   "cell_type": "code",
   "execution_count": 5,
   "metadata": {
    "collapsed": false
   },
   "outputs": [
    {
     "name": "stdout",
     "output_type": "stream",
     "text": [
      "Best fitness: 5618.0 solution: (3, 4, 2, 1)\n",
      "Execution time: 0.0005083084106445312\n"
     ]
    }
   ],
   "source": [
    "import time as tm\n",
    "\n",
    "instance = read_instance_QAP(\"tai5a.dat\")\n",
    "start = tm.time()\n",
    "(best, sol) = Brute_Force(instance)\n",
    "end=tm.time()\n",
    "\n",
    "print(\"Best fitness: {} solution: {}\".format(best, sol))\n",
    "print(\"Execution time: {}\".format(end-start))"
   ]
  },
  {
   "cell_type": "markdown",
   "metadata": {},
   "source": [
    "Eureka! Parece que el algoritmo es eficiente :)\n",
    "Prueba ahora a ejecutar el algoritmo en la instancia <i>tai10a.dat</i> y <i>tai20a.dat</i>."
   ]
  },
  {
   "cell_type": "code",
   "execution_count": 6,
   "metadata": {
    "collapsed": true
   },
   "outputs": [
    {
     "name": "stdout",
     "output_type": "stream",
     "text": [
      "Best fitness 114874.0 solution: (8, 3, 6, 4, 9, 1, 5, 2, 7)\n",
      "Execution time: 7.119967699050903\n"
     ]
    }
   ],
   "source": [
    "instance = read_instance_QAP(\"tai10a.dat\")\n",
    "start = tm.time()\n",
    "(best, sol) = Brute_Force(instance)\n",
    "end=tm.time()\n",
    "\n",
    "print(\"Best fitness {} solution: {}\".format(best, sol))\n",
    "print(\"Execution time: {}\".format(end-start))"
   ]
  },
  {
   "cell_type": "code",
   "execution_count": 6,
   "metadata": {
    "collapsed": true
   },
   "outputs": [
    {
     "ename": "",
     "evalue": "",
     "output_type": "error",
     "traceback": [
      "\u001b[1;31mThe Kernel crashed while executing code in the the current cell or a previous cell. Please review the code in the cell(s) to identify a possible cause of the failure. Click <a href='https://aka.ms/vscodeJupyterKernelCrash'>here</a> for more info. View Jupyter <a href='command:jupyter.viewOutput'>log</a> for further details."
     ]
    }
   ],
   "source": [
    "instance = read_instance_QAP(\"tai20a.dat\")\n",
    "start = tm.time()\n",
    "(best, sol) = Brute_Force(instance)\n",
    "end=tm.time()\n",
    "\n",
    "print(\"Best fitness {} Solution: {}\".format(best, sol))\n",
    "print(\"Execution time: {}\".format(end-start))"
   ]
  },
  {
   "cell_type": "markdown",
   "metadata": {
    "collapsed": false
   },
   "source": [
    "¿ Conclusión ?"
   ]
  },
  {
   "cell_type": "markdown",
   "metadata": {},
   "source": [
    "> Un número alto de iteraciones hace que el programa colapse por lo que el algoritmo de Brute-Force solo debería usarse con una cantidad pequeña de soluciones posibles "
   ]
  },
  {
   "cell_type": "markdown",
   "metadata": {},
   "source": [
    "### Random Search\n",
    "\n",
    "Esta claro que el algoritmo denominado <i>Brute-Force</i> no es aplicable en todos los escenarios, y va a ser necesario analizar el tamaño del espacio de búsqueda para hacernos una idea de si tiene sentido utilizarlo o no.\n",
    "\n",
    "Un algoritmo algo más barato en el sentido computacional es random search, un método iterativo que va probando el espacio de búsqueda al azar. Muchas veces random search es utilizado como baseline para comparativas, ya que para demostrar la eficiencia de un algoritmo en primer lugar hay que demostrar que es mejor que un algoritmo basado en el azar. Random search explora un número determinado de soluciones al azar dentro del espacio de búsqueda.\n",
    "Reutiliza tu implementación de brute-force para conseguir el algoritmo random search."
   ]
  },
  {
   "cell_type": "code",
   "execution_count": 7,
   "metadata": {
    "collapsed": true
   },
   "outputs": [],
   "source": [
    "import random\n",
    "import more_itertools as mit\n",
    "\n",
    "def random_search(instance : list , num_solutions : int) -> list:\n",
    "    n, D, H = instance\n",
    "    solutions = [(mit.random_permutation(range(1,n))) for i in range(num_solutions)]     #Permutacion de algunas soluciones posibles (aleatorias)\n",
    "    min_fitness = np.inf\n",
    "    \n",
    "    for solution in solutions:\n",
    "        fitness = objective_function_QAP(solution, instance)\n",
    "        if (min_fitness > fitness):\n",
    "            min_fitness = fitness\n",
    "            best_solution = solution\n",
    "    return min_fitness, best_solution\n",
    "\n"
   ]
  },
  {
   "cell_type": "code",
   "execution_count": 11,
   "metadata": {
    "collapsed": false
   },
   "outputs": [
    {
     "name": "stdout",
     "output_type": "stream",
     "text": [
      "Best fitness: 792314.0 Solution (19, 12, 15, 1, 5, 6, 3, 18, 14, 8, 7, 10, 17, 2, 9, 4, 11, 16, 13)\n",
      "Execution time: 0.03637838363647461\n"
     ]
    }
   ],
   "source": [
    "# Cargar instancia\n",
    "instance = read_instance_QAP(\"tai20a.dat\")\n",
    "\n",
    "# Ejecutar algoritmo random search\n",
    "start = tm.time()\n",
    "(fitness,sol) = random_search(instance,100)\n",
    "end=tm.time()\n",
    "\n",
    "print(\"Best fitness: {} Solution {}\".format(fitness, sol))\n",
    "print(\"Execution time: {}\".format(end-start))"
   ]
  },
  {
   "cell_type": "markdown",
   "metadata": {},
   "source": [
    "En este caso, está claro que la variable <i>n_solutions</i> es un hiperparámetro del modelo, y que cuanto más grande sea se explorará una mayor parte del espacio de búsqueda y que mejor serán las soluciones, aunque ...\n",
    "¿ Qué pasaría si hacemos n_solutions extremadamente grande ?"
   ]
  },
  {
   "cell_type": "code",
   "execution_count": 21,
   "metadata": {
    "collapsed": true,
    "pycharm": {
     "is_executing": true
    }
   },
   "outputs": [
    {
     "name": "stdout",
     "output_type": "stream",
     "text": [
      "N-solutions: 1000000. Average fitness: 733504.0. Average time: 84.51187992095947\n"
     ]
    }
   ],
   "source": [
    "import matplotlib.pyplot as plt\n",
    "import pandas as pd\n",
    "\n",
    "list_n_solutions = []\n",
    "list_best_fitness = []\n",
    "list_times = []\n",
    "repetitions = 10\n",
    "\n",
    "# Experimenta con distintos hiperparametros: 10, 100, 1000, 10000...\n",
    "\n",
    "n_solutions = 1000000\n",
    "avg_fitness = 0\n",
    "avg_time = 0\n",
    "\n",
    "start = tm.time()\n",
    "(fitness, solution) = random_search(instance, n_solutions)\n",
    "delta = tm.time() - start\n",
    "avg_fitness += fitness\n",
    "avg_time += delta\n",
    "\n",
    "print(\"N-solutions: {}. Average fitness: {}. Average time: {}\".format(n_solutions, avg_fitness, avg_time))\n",
    "list_n_solutions.append(n_solutions)\n",
    "list_best_fitness.append(avg_fitness)\n",
    "list_times.append(avg_time)\n"
   ]
  },
  {
   "cell_type": "code",
   "execution_count": 61,
   "metadata": {
    "collapsed": true
   },
   "outputs": [
    {
     "data": {
      "text/html": [
       "<div>\n",
       "<style scoped>\n",
       "    .dataframe tbody tr th:only-of-type {\n",
       "        vertical-align: middle;\n",
       "    }\n",
       "\n",
       "    .dataframe tbody tr th {\n",
       "        vertical-align: top;\n",
       "    }\n",
       "\n",
       "    .dataframe thead th {\n",
       "        text-align: right;\n",
       "    }\n",
       "</style>\n",
       "<table border=\"1\" class=\"dataframe\">\n",
       "  <thead>\n",
       "    <tr style=\"text-align: right;\">\n",
       "      <th></th>\n",
       "      <th>n_solutions</th>\n",
       "      <th>Fitness</th>\n",
       "      <th>Delta time</th>\n",
       "    </tr>\n",
       "  </thead>\n",
       "  <tbody>\n",
       "    <tr>\n",
       "      <th>0</th>\n",
       "      <td>10</td>\n",
       "      <td>157756.8</td>\n",
       "      <td>0.000960</td>\n",
       "    </tr>\n",
       "    <tr>\n",
       "      <th>1</th>\n",
       "      <td>100</td>\n",
       "      <td>146022.2</td>\n",
       "      <td>0.009585</td>\n",
       "    </tr>\n",
       "    <tr>\n",
       "      <th>2</th>\n",
       "      <td>1000</td>\n",
       "      <td>139121.0</td>\n",
       "      <td>0.027836</td>\n",
       "    </tr>\n",
       "    <tr>\n",
       "      <th>3</th>\n",
       "      <td>10000</td>\n",
       "      <td>133924.8</td>\n",
       "      <td>0.229948</td>\n",
       "    </tr>\n",
       "    <tr>\n",
       "      <th>4</th>\n",
       "      <td>100000</td>\n",
       "      <td>129420.6</td>\n",
       "      <td>2.369893</td>\n",
       "    </tr>\n",
       "  </tbody>\n",
       "</table>\n",
       "</div>"
      ],
      "text/plain": [
       "   n_solutions   Fitness  Delta time\n",
       "0           10  157756.8    0.000960\n",
       "1          100  146022.2    0.009585\n",
       "2         1000  139121.0    0.027836\n",
       "3        10000  133924.8    0.229948\n",
       "4       100000  129420.6    2.369893"
      ]
     },
     "execution_count": 61,
     "metadata": {},
     "output_type": "execute_result"
    }
   ],
   "source": [
    "# Creamos un dataframe\n",
    "datos = pd.DataFrame({\"n_solutions\" : list_n_solutions,\n",
    "                      \"Fitness\" : list_best_fitness,\n",
    "                      \"Delta time\" : list_times})\n",
    "datos.size\n",
    "datos.head()"
   ]
  },
  {
   "cell_type": "code",
   "execution_count": 62,
   "metadata": {
    "collapsed": false
   },
   "outputs": [
    {
     "data": {
      "text/html": [
       "<div>\n",
       "<style scoped>\n",
       "    .dataframe tbody tr th:only-of-type {\n",
       "        vertical-align: middle;\n",
       "    }\n",
       "\n",
       "    .dataframe tbody tr th {\n",
       "        vertical-align: top;\n",
       "    }\n",
       "\n",
       "    .dataframe thead th {\n",
       "        text-align: right;\n",
       "    }\n",
       "</style>\n",
       "<table border=\"1\" class=\"dataframe\">\n",
       "  <thead>\n",
       "    <tr style=\"text-align: right;\">\n",
       "      <th></th>\n",
       "      <th>Fitness</th>\n",
       "      <th>Delta time</th>\n",
       "    </tr>\n",
       "    <tr>\n",
       "      <th>n_solutions</th>\n",
       "      <th></th>\n",
       "      <th></th>\n",
       "    </tr>\n",
       "  </thead>\n",
       "  <tbody>\n",
       "    <tr>\n",
       "      <th>10</th>\n",
       "      <td>157756.8</td>\n",
       "      <td>0.000960</td>\n",
       "    </tr>\n",
       "    <tr>\n",
       "      <th>100</th>\n",
       "      <td>146022.2</td>\n",
       "      <td>0.009585</td>\n",
       "    </tr>\n",
       "    <tr>\n",
       "      <th>1000</th>\n",
       "      <td>139121.0</td>\n",
       "      <td>0.027836</td>\n",
       "    </tr>\n",
       "    <tr>\n",
       "      <th>10000</th>\n",
       "      <td>133924.8</td>\n",
       "      <td>0.229948</td>\n",
       "    </tr>\n",
       "    <tr>\n",
       "      <th>100000</th>\n",
       "      <td>129420.6</td>\n",
       "      <td>2.369893</td>\n",
       "    </tr>\n",
       "  </tbody>\n",
       "</table>\n",
       "</div>"
      ],
      "text/plain": [
       "              Fitness  Delta time\n",
       "n_solutions                      \n",
       "10           157756.8    0.000960\n",
       "100          146022.2    0.009585\n",
       "1000         139121.0    0.027836\n",
       "10000        133924.8    0.229948\n",
       "100000       129420.6    2.369893"
      ]
     },
     "execution_count": 62,
     "metadata": {},
     "output_type": "execute_result"
    }
   ],
   "source": [
    "datos.set_index('n_solutions', inplace = True)\n",
    "datos.head()"
   ]
  },
  {
   "cell_type": "code",
   "execution_count": 63,
   "metadata": {
    "collapsed": false
   },
   "outputs": [
    {
     "data": {
      "text/plain": [
       "<AxesSubplot:xlabel='n_solutions'>"
      ]
     },
     "execution_count": 63,
     "metadata": {},
     "output_type": "execute_result"
    },
    {
     "data": {
      "image/png": "[encoded data removed]",
      "text/plain": [
       "<Figure size 432x288 with 1 Axes>"
      ]
     },
     "metadata": {
      "needs_background": "light"
     },
     "output_type": "display_data"
    }
   ],
   "source": [
    "%matplotlib inline\n",
    "datos.plot(kind = 'bar', y = 'Fitness', use_index = True)"
   ]
  },
  {
   "cell_type": "code",
   "execution_count": 56,
   "metadata": {
    "collapsed": false
   },
   "outputs": [
    {
     "data": {
      "text/plain": [
       "<AxesSubplot:xlabel='n_solutions'>"
      ]
     },
     "execution_count": 56,
     "metadata": {},
     "output_type": "execute_result"
    },
    {
     "data": {
      "image/png": "[encoded data removed]",
      "text/plain": [
       "<Figure size 432x288 with 1 Axes>"
      ]
     },
     "metadata": {
      "needs_background": "light"
     },
     "output_type": "display_data"
    }
   ],
   "source": [
    "%matplotlib inline\n",
    "datos.plot(kind = 'line', y = 'Fitness', use_index = True)"
   ]
  },
  {
   "cell_type": "code",
   "execution_count": 57,
   "metadata": {
    "collapsed": false
   },
   "outputs": [
    {
     "data": {
      "text/plain": [
       "<AxesSubplot:xlabel='n_solutions'>"
      ]
     },
     "execution_count": 57,
     "metadata": {},
     "output_type": "execute_result"
    },
    {
     "data": {
      "image/png": "[encoded data removed]",
      "text/plain": [
       "<Figure size 432x288 with 1 Axes>"
      ]
     },
     "metadata": {
      "needs_background": "light"
     },
     "output_type": "display_data"
    }
   ],
   "source": [
    "%matplotlib inline\n",
    "datos.plot(kind = 'bar', y = 'Delta time', use_index = True)"
   ]
  },
  {
   "cell_type": "code",
   "execution_count": 64,
   "metadata": {
    "collapsed": false
   },
   "outputs": [
    {
     "data": {
      "text/plain": [
       "<AxesSubplot:xlabel='n_solutions'>"
      ]
     },
     "execution_count": 64,
     "metadata": {},
     "output_type": "execute_result"
    },
    {
     "data": {
      "image/png": "[encoded data removed]",
      "text/plain": [
       "<Figure size 432x288 with 1 Axes>"
      ]
     },
     "metadata": {
      "needs_background": "light"
     },
     "output_type": "display_data"
    }
   ],
   "source": [
    "%matplotlib inline\n",
    "datos.plot(kind = 'line', y = 'Delta time', use_index = True)"
   ]
  }
 ],
 "metadata": {
  "kernelspec": {
   "display_name": "Python 3",
   "language": "python",
   "name": "python3"
  },
  "language_info": {
   "codemirror_mode": {
    "name": "ipython",
    "version": 3
   },
   "file_extension": ".py",
   "mimetype": "text/x-python",
   "name": "python",
   "nbconvert_exporter": "python",
   "pygments_lexer": "ipython3",
   "version": "3.10.6"
  }
 },
 "nbformat": 4,
 "nbformat_minor": 2
}
